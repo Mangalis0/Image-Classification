{
 "cells": [
  {
   "cell_type": "markdown",
   "metadata": {
    "colab_type": "text",
    "collapsed": true,
    "id": "q4sO-peK5nPe"
   },
   "source": [
    "# Introduction to Image Classification\n",
    "\n",
    "© Explore Data Science Academy"
   ]
  },
  {
   "cell_type": "markdown",
   "metadata": {
    "colab_type": "text",
    "id": "rio6wWWK5nPg"
   },
   "source": [
    "The great thing about the Machine Learning techniques you have been learning is that they can be applied to most forms of data. So far you have done classification on tabular data (the iris dataset) and on text data (the mbti dataset). In this test you will use the same techiques learnt there and apply them to image classification.\n",
    "\n",
    "## Honour Code\n",
    "I **MANGALISO, MAKHOBA**, confirm - by submitting this document - that the solutions in this notebook are a result of my own work and that I abide by the EDSA honour code (https://drive.google.com/file/d/1QDCjGZJ8-FmJE3bZdIQNwnJyQKPhHZBn/view?usp=sharing).  \n",
    "\n",
    "Non-compliance with the honour code constitutes a material breach of contract."
   ]
  },
  {
   "cell_type": "markdown",
   "metadata": {
    "colab_type": "text",
    "id": "jrCXrw5X5nPk"
   },
   "source": [
    "## Imports"
   ]
  },
  {
   "cell_type": "code",
   "execution_count": 3,
   "metadata": {
    "colab": {},
    "colab_type": "code",
    "id": "aQbyemE45nPp"
   },
   "outputs": [],
   "source": [
    "import numpy as np\n",
    "import gzip # This is used in extracting the images\n",
    "\n",
    "import matplotlib.pyplot as plt # in order to plot the images to see what we are dealing with\n",
    "from sklearn.ensemble import RandomForestClassifier # you'll be using Random Forest to classify the images\n",
    "from sklearn.metrics import accuracy_score # sklearn's way of measuring accuracy\n",
    "from sklearn.metrics import classification_report "
   ]
  },
  {
   "cell_type": "markdown",
   "metadata": {
    "colab_type": "text",
    "id": "XG1aYu7_5nP1"
   },
   "source": [
    "## The Dataset"
   ]
  },
  {
   "cell_type": "markdown",
   "metadata": {
    "colab_type": "text",
    "id": "OGDD8i9S5nP7"
   },
   "source": [
    "The dataset we will be using is called MNIST. This is a large dataset of handdrawn digits 0-9 and is a good dataset to learn image classification on as it requires little to no preprocessing.\n",
    "\n",
    "The dataset can be downloaded from [The MNIST Database](http://yann.lecun.com/exdb/mnist/). Download all four files. These files are the images and their respective labels and the dataset has already been split into a train and a test set.\n",
    "\n",
    "Once you've downloaded the data, make sure that the data is in the same folder as this Jupyter Notebook, and then lets begin! \n",
    "\n",
    "These files are compressed as gzip. The following two functions will extract the data for you. ** Don't change this code. **"
   ]
  },
  {
   "cell_type": "code",
   "execution_count": 4,
   "metadata": {
    "colab": {},
    "colab_type": "code",
    "id": "-62g3Rdn5nP9"
   },
   "outputs": [],
   "source": [
    "def extract_data(filename, num_images, IMAGE_WIDTH):\n",
    "    \"\"\"Extract the images into a 4D tensor [image index, y, x, channels].\"\"\"\n",
    "    with gzip.open(filename) as bytestream:\n",
    "        bytestream.read(16)\n",
    "        buf = bytestream.read(IMAGE_WIDTH * IMAGE_WIDTH * num_images)\n",
    "        data = np.frombuffer(buf, dtype=np.uint8).astype(np.float32)\n",
    "        data = data.reshape(num_images, IMAGE_WIDTH*IMAGE_WIDTH)\n",
    "        return data\n",
    "\n",
    "def extract_labels(filename, num_images):\n",
    "    \"\"\"Extract the labels into a vector of int64 label IDs.\"\"\"\n",
    "    with gzip.open(filename) as bytestream:\n",
    "        bytestream.read(8)\n",
    "        buf = bytestream.read(1 * num_images)\n",
    "        labels = np.frombuffer(buf, dtype=np.uint8).astype(np.int64)\n",
    "    return labels"
   ]
  },
  {
   "cell_type": "markdown",
   "metadata": {
    "colab_type": "text",
    "id": "aY2_-9ai5nQF"
   },
   "source": [
    "## Question 1 - Extracting the data\n",
    "\n",
    "The MNIST dataset consists for 60 000 training images and 10 000 testing images. This is a lot of data! Let's not extract all of that right now. Create a function get_data that uses the above functions to extract a certain number of images and their labels from the gzip files.\n",
    "\n",
    "The function will take as input two integer values and return four variables in the form of `(X_train, y_train), (X_test, y_test)`, where `(X_train, y_train)` are the extracted images / labels of the training set, and `(X-test, y_test)` are the extracted images / labels of the testing set.\n",
    "\n",
    "Image pixel values range from 0-255. Normalise the image pixels so that they are in the range 0-1.\n",
    "\n",
    "_**Function Specifications:**_\n",
    "* Should take two integers as input, one representing the number of training images, and the other the number of testing images.\n",
    "* Should return two `tuples` of the form `(X_train, y_train), (X_test, y_test)`.\n",
    "\n",
    "_**Note**_ that the size of the MNIST images are 28x28\n",
    "\n",
    "Usually when setting up your dataset, it is a good idea to randomly shuffle your data in case your data are ordered. Think of this as shuffling a pack of cards. Here, however, we aren't going to shuffle the data so that all our answers are the same."
   ]
  },
  {
   "cell_type": "code",
   "execution_count": 5,
   "metadata": {
    "colab": {},
    "colab_type": "code",
    "id": "2BpvzeRX5nQJ"
   },
   "outputs": [],
   "source": [
    "### START FUNCTION\n",
    "def get_data(num_train_images,num_test_images):\n",
    "\n",
    "    X_train = extract_data('train-images-idx3-ubyte.gz', num_train_images, 28) / 255 # Normalizing by dividing by the Max pixel value\n",
    "    y_train = extract_labels('train-labels-idx1-ubyte.gz', num_train_images) \n",
    "    X_test = extract_data('t10k-images-idx3-ubyte.gz', num_test_images, 28) / 255\n",
    "    y_test = extract_labels('t10k-labels-idx1-ubyte.gz', num_test_images)\n",
    "    \n",
    "    return (X_train, y_train), (X_test, y_test)\n",
    "\n",
    "### END FUNCTION"
   ]
  },
  {
   "cell_type": "code",
   "execution_count": 6,
   "metadata": {
    "colab": {},
    "colab_type": "code",
    "id": "F2rS86Dw5nQT",
    "outputId": "6e82889f-284b-4213-80a7-1552032c7277",
    "tags": []
   },
   "outputs": [
    {
     "output_type": "stream",
     "name": "stdout",
     "text": "(5000,)\n(1000,)\n(5000, 784)\n(1000, 784)\n"
    }
   ],
   "source": [
    "(X_train, y_train), (X_test, y_test) = get_data(5000,1000)\n",
    "## Print off the shape of these arrays to see what we are dealing with\n",
    "print(y_train.shape)\n",
    "print(y_test.shape)\n",
    "print(X_train.shape)\n",
    "print(X_test.shape)"
   ]
  },
  {
   "cell_type": "code",
   "execution_count": 7,
   "metadata": {},
   "outputs": [
    {
     "output_type": "execute_result",
     "data": {
      "text/plain": "0.10980392"
     },
     "metadata": {},
     "execution_count": 7
    }
   ],
   "source": [
    "X_train[1, 349]"
   ]
  },
  {
   "cell_type": "markdown",
   "metadata": {
    "colab_type": "text",
    "id": "M3j32G5d5nQd"
   },
   "source": [
    "** Expected Output **\n",
    "```python\n",
    "(X_train, y_train), (X_test, y_test) = get_data(5000,1000)\n",
    "## Print off the shape of these arrays to see what we are dealing with\n",
    "print(y_train.shape)\n",
    "print(y_test.shape)\n",
    "print(X_train.shape)\n",
    "print(X_test.shape)\n",
    "\n",
    "(5000,)\n",
    "(1000,)\n",
    "(5000, 784)\n",
    "(1000, 784)\n",
    "```"
   ]
  },
  {
   "cell_type": "markdown",
   "metadata": {
    "colab_type": "text",
    "id": "TPSr43Tl5nQf"
   },
   "source": [
    "## Plotting the Data"
   ]
  },
  {
   "cell_type": "markdown",
   "metadata": {
    "colab_type": "text",
    "id": "hWTO9Xts5nQh"
   },
   "source": [
    "Let's see what this data looks like! Right now the images are \"flattened\" into a 1-D array of length 784. In order to plot the image we first need to reshape it to the correct size of 28x28. We'll print out the respective label to make sure we are plotting the right number."
   ]
  },
  {
   "cell_type": "code",
   "execution_count": 8,
   "metadata": {
    "colab": {},
    "colab_type": "code",
    "id": "nLi4Odvo5nQj",
    "outputId": "7d835666-70e3-42d1-d2e5-74f531f704ca",
    "tags": []
   },
   "outputs": [
    {
     "output_type": "stream",
     "name": "stdout",
     "text": "Label:  1\n"
    },
    {
     "output_type": "display_data",
     "data": {
      "text/plain": "<Figure size 1200x1050 with 1 Axes>",
      "image/svg+xml": "<?xml version=\"1.0\" encoding=\"utf-8\" standalone=\"no\"?>\r\n<!DOCTYPE svg PUBLIC \"-//W3C//DTD SVG 1.1//EN\"\r\n  \"http://www.w3.org/Graphics/SVG/1.1/DTD/svg11.dtd\">\r\n<!-- Created with matplotlib (https://matplotlib.org/) -->\r\n<svg height=\"419.443094pt\" version=\"1.1\" viewBox=\"0 0 421.933562 419.443094\" width=\"421.933562pt\" xmlns=\"http://www.w3.org/2000/svg\" xmlns:xlink=\"http://www.w3.org/1999/xlink\">\r\n <defs>\r\n  <style type=\"text/css\">\r\n*{stroke-linecap:butt;stroke-linejoin:round;}\r\n  </style>\r\n </defs>\r\n <g id=\"figure_1\">\r\n  <g id=\"patch_1\">\r\n   <path d=\"M 0 419.443094 \r\nL 421.933562 419.443094 \r\nL 421.933562 0 \r\nL 0 0 \r\nz\r\n\" style=\"fill:#ffffff;\"/>\r\n  </g>\r\n  <g id=\"axes_1\">\r\n   <g id=\"patch_2\">\r\n    <path d=\"M 34.213563 387.72 \r\nL 414.733563 387.72 \r\nL 414.733563 7.2 \r\nL 34.213563 7.2 \r\nz\r\n\" style=\"fill:#ffffff;\"/>\r\n   </g>\r\n   <g clip-path=\"url(#pb4a4d1f759)\">\r\n    <image height=\"380.64\" id=\"imagead8f58af51\" transform=\"scale(1 -1)translate(0 -380.64)\" width=\"380.64\" x=\"34.213563\" xlink:href=\"data:image/png;base64,\r\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\" y=\"-7.08\"/>\r\n   </g>\r\n   <g id=\"matplotlib.axis_1\">\r\n    <g id=\"xtick_1\">\r\n     <g id=\"line2d_1\">\r\n      <path clip-path=\"url(#pb4a4d1f759)\" d=\"M 41.008563 387.72 \r\nL 41.008563 7.2 \r\n\" style=\"fill:none;stroke:#cccccc;stroke-linecap:round;stroke-width:1.4;\"/>\r\n     </g>\r\n     <g id=\"text_1\">\r\n      <!-- 0 -->\r\n      <defs>\r\n       <path d=\"M 4.15625 35.296875 \r\nQ 4.15625 48 6.765625 55.734375 \r\nQ 9.375 63.484375 14.515625 67.671875 \r\nQ 19.671875 71.875 27.484375 71.875 \r\nQ 33.25 71.875 37.59375 69.546875 \r\nQ 41.9375 67.234375 44.765625 62.859375 \r\nQ 47.609375 58.5 49.21875 52.21875 \r\nQ 50.828125 45.953125 50.828125 35.296875 \r\nQ 50.828125 22.703125 48.234375 14.96875 \r\nQ 45.65625 7.234375 40.5 3 \r\nQ 35.359375 -1.21875 27.484375 -1.21875 \r\nQ 17.140625 -1.21875 11.234375 6.203125 \r\nQ 4.15625 15.140625 4.15625 35.296875 \r\nz\r\nM 13.1875 35.296875 \r\nQ 13.1875 17.671875 17.3125 11.828125 \r\nQ 21.4375 6 27.484375 6 \r\nQ 33.546875 6 37.671875 11.859375 \r\nQ 41.796875 17.71875 41.796875 35.296875 \r\nQ 41.796875 52.984375 37.671875 58.78125 \r\nQ 33.546875 64.59375 27.390625 64.59375 \r\nQ 21.34375 64.59375 17.71875 59.46875 \r\nQ 13.1875 52.9375 13.1875 35.296875 \r\nz\r\n\" id=\"ArialMT-48\"/>\r\n      </defs>\r\n      <g style=\"fill:#262626;\" transform=\"translate(37.505172 409.738844)scale(0.126 -0.126)\">\r\n       <use xlink:href=\"#ArialMT-48\"/>\r\n      </g>\r\n     </g>\r\n    </g>\r\n    <g id=\"xtick_2\">\r\n     <g id=\"line2d_2\">\r\n      <path clip-path=\"url(#pb4a4d1f759)\" d=\"M 108.958562 387.72 \r\nL 108.958562 7.2 \r\n\" style=\"fill:none;stroke:#cccccc;stroke-linecap:round;stroke-width:1.4;\"/>\r\n     </g>\r\n     <g id=\"text_2\">\r\n      <!-- 5 -->\r\n      <defs>\r\n       <path d=\"M 4.15625 18.75 \r\nL 13.375 19.53125 \r\nQ 14.40625 12.796875 18.140625 9.390625 \r\nQ 21.875 6 27.15625 6 \r\nQ 33.5 6 37.890625 10.78125 \r\nQ 42.28125 15.578125 42.28125 23.484375 \r\nQ 42.28125 31 38.0625 35.34375 \r\nQ 33.84375 39.703125 27 39.703125 \r\nQ 22.75 39.703125 19.328125 37.765625 \r\nQ 15.921875 35.84375 13.96875 32.765625 \r\nL 5.71875 33.84375 \r\nL 12.640625 70.609375 \r\nL 48.25 70.609375 \r\nL 48.25 62.203125 \r\nL 19.671875 62.203125 \r\nL 15.828125 42.96875 \r\nQ 22.265625 47.46875 29.34375 47.46875 \r\nQ 38.71875 47.46875 45.15625 40.96875 \r\nQ 51.609375 34.46875 51.609375 24.265625 \r\nQ 51.609375 14.546875 45.953125 7.46875 \r\nQ 39.0625 -1.21875 27.15625 -1.21875 \r\nQ 17.390625 -1.21875 11.203125 4.25 \r\nQ 5.03125 9.71875 4.15625 18.75 \r\nz\r\n\" id=\"ArialMT-53\"/>\r\n      </defs>\r\n      <g style=\"fill:#262626;\" transform=\"translate(105.455172 409.738844)scale(0.126 -0.126)\">\r\n       <use xlink:href=\"#ArialMT-53\"/>\r\n      </g>\r\n     </g>\r\n    </g>\r\n    <g id=\"xtick_3\">\r\n     <g id=\"line2d_3\">\r\n      <path clip-path=\"url(#pb4a4d1f759)\" d=\"M 176.908562 387.72 \r\nL 176.908562 7.2 \r\n\" style=\"fill:none;stroke:#cccccc;stroke-linecap:round;stroke-width:1.4;\"/>\r\n     </g>\r\n     <g id=\"text_3\">\r\n      <!-- 10 -->\r\n      <defs>\r\n       <path d=\"M 37.25 0 \r\nL 28.46875 0 \r\nL 28.46875 56 \r\nQ 25.296875 52.984375 20.140625 49.953125 \r\nQ 14.984375 46.921875 10.890625 45.40625 \r\nL 10.890625 53.90625 \r\nQ 18.265625 57.375 23.78125 62.296875 \r\nQ 29.296875 67.234375 31.59375 71.875 \r\nL 37.25 71.875 \r\nz\r\n\" id=\"ArialMT-49\"/>\r\n      </defs>\r\n      <g style=\"fill:#262626;\" transform=\"translate(169.901781 409.738844)scale(0.126 -0.126)\">\r\n       <use xlink:href=\"#ArialMT-49\"/>\r\n       <use x=\"55.615234\" xlink:href=\"#ArialMT-48\"/>\r\n      </g>\r\n     </g>\r\n    </g>\r\n    <g id=\"xtick_4\">\r\n     <g id=\"line2d_4\">\r\n      <path clip-path=\"url(#pb4a4d1f759)\" d=\"M 244.858562 387.72 \r\nL 244.858562 7.2 \r\n\" style=\"fill:none;stroke:#cccccc;stroke-linecap:round;stroke-width:1.4;\"/>\r\n     </g>\r\n     <g id=\"text_4\">\r\n      <!-- 15 -->\r\n      <g style=\"fill:#262626;\" transform=\"translate(237.851781 409.738844)scale(0.126 -0.126)\">\r\n       <use xlink:href=\"#ArialMT-49\"/>\r\n       <use x=\"55.615234\" xlink:href=\"#ArialMT-53\"/>\r\n      </g>\r\n     </g>\r\n    </g>\r\n    <g id=\"xtick_5\">\r\n     <g id=\"line2d_5\">\r\n      <path clip-path=\"url(#pb4a4d1f759)\" d=\"M 312.808562 387.72 \r\nL 312.808562 7.2 \r\n\" style=\"fill:none;stroke:#cccccc;stroke-linecap:round;stroke-width:1.4;\"/>\r\n     </g>\r\n     <g id=\"text_5\">\r\n      <!-- 20 -->\r\n      <defs>\r\n       <path d=\"M 50.34375 8.453125 \r\nL 50.34375 0 \r\nL 3.03125 0 \r\nQ 2.9375 3.171875 4.046875 6.109375 \r\nQ 5.859375 10.9375 9.828125 15.625 \r\nQ 13.8125 20.3125 21.34375 26.46875 \r\nQ 33.015625 36.03125 37.109375 41.625 \r\nQ 41.21875 47.21875 41.21875 52.203125 \r\nQ 41.21875 57.421875 37.46875 61 \r\nQ 33.734375 64.59375 27.734375 64.59375 \r\nQ 21.390625 64.59375 17.578125 60.78125 \r\nQ 13.765625 56.984375 13.71875 50.25 \r\nL 4.6875 51.171875 \r\nQ 5.609375 61.28125 11.65625 66.578125 \r\nQ 17.71875 71.875 27.9375 71.875 \r\nQ 38.234375 71.875 44.234375 66.15625 \r\nQ 50.25 60.453125 50.25 52 \r\nQ 50.25 47.703125 48.484375 43.546875 \r\nQ 46.734375 39.40625 42.65625 34.8125 \r\nQ 38.578125 30.21875 29.109375 22.21875 \r\nQ 21.1875 15.578125 18.9375 13.203125 \r\nQ 16.703125 10.84375 15.234375 8.453125 \r\nz\r\n\" id=\"ArialMT-50\"/>\r\n      </defs>\r\n      <g style=\"fill:#262626;\" transform=\"translate(305.801781 409.738844)scale(0.126 -0.126)\">\r\n       <use xlink:href=\"#ArialMT-50\"/>\r\n       <use x=\"55.615234\" xlink:href=\"#ArialMT-48\"/>\r\n      </g>\r\n     </g>\r\n    </g>\r\n    <g id=\"xtick_6\">\r\n     <g id=\"line2d_6\">\r\n      <path clip-path=\"url(#pb4a4d1f759)\" d=\"M 380.758562 387.72 \r\nL 380.758562 7.2 \r\n\" style=\"fill:none;stroke:#cccccc;stroke-linecap:round;stroke-width:1.4;\"/>\r\n     </g>\r\n     <g id=\"text_6\">\r\n      <!-- 25 -->\r\n      <g style=\"fill:#262626;\" transform=\"translate(373.751781 409.738844)scale(0.126 -0.126)\">\r\n       <use xlink:href=\"#ArialMT-50\"/>\r\n       <use x=\"55.615234\" xlink:href=\"#ArialMT-53\"/>\r\n      </g>\r\n     </g>\r\n    </g>\r\n   </g>\r\n   <g id=\"matplotlib.axis_2\">\r\n    <g id=\"ytick_1\">\r\n     <g id=\"line2d_7\">\r\n      <path clip-path=\"url(#pb4a4d1f759)\" d=\"M 34.213563 13.995 \r\nL 414.733563 13.995 \r\n\" style=\"fill:none;stroke:#cccccc;stroke-linecap:round;stroke-width:1.4;\"/>\r\n     </g>\r\n     <g id=\"text_7\">\r\n      <!-- 0 -->\r\n      <g style=\"fill:#262626;\" transform=\"translate(14.206781 18.504422)scale(0.126 -0.126)\">\r\n       <use xlink:href=\"#ArialMT-48\"/>\r\n      </g>\r\n     </g>\r\n    </g>\r\n    <g id=\"ytick_2\">\r\n     <g id=\"line2d_8\">\r\n      <path clip-path=\"url(#pb4a4d1f759)\" d=\"M 34.213563 81.945 \r\nL 414.733563 81.945 \r\n\" style=\"fill:none;stroke:#cccccc;stroke-linecap:round;stroke-width:1.4;\"/>\r\n     </g>\r\n     <g id=\"text_8\">\r\n      <!-- 5 -->\r\n      <g style=\"fill:#262626;\" transform=\"translate(14.206781 86.454422)scale(0.126 -0.126)\">\r\n       <use xlink:href=\"#ArialMT-53\"/>\r\n      </g>\r\n     </g>\r\n    </g>\r\n    <g id=\"ytick_3\">\r\n     <g id=\"line2d_9\">\r\n      <path clip-path=\"url(#pb4a4d1f759)\" d=\"M 34.213563 149.895 \r\nL 414.733563 149.895 \r\n\" style=\"fill:none;stroke:#cccccc;stroke-linecap:round;stroke-width:1.4;\"/>\r\n     </g>\r\n     <g id=\"text_9\">\r\n      <!-- 10 -->\r\n      <g style=\"fill:#262626;\" transform=\"translate(7.2 154.404422)scale(0.126 -0.126)\">\r\n       <use xlink:href=\"#ArialMT-49\"/>\r\n       <use x=\"55.615234\" xlink:href=\"#ArialMT-48\"/>\r\n      </g>\r\n     </g>\r\n    </g>\r\n    <g id=\"ytick_4\">\r\n     <g id=\"line2d_10\">\r\n      <path clip-path=\"url(#pb4a4d1f759)\" d=\"M 34.213563 217.845 \r\nL 414.733563 217.845 \r\n\" style=\"fill:none;stroke:#cccccc;stroke-linecap:round;stroke-width:1.4;\"/>\r\n     </g>\r\n     <g id=\"text_10\">\r\n      <!-- 15 -->\r\n      <g style=\"fill:#262626;\" transform=\"translate(7.2 222.354422)scale(0.126 -0.126)\">\r\n       <use xlink:href=\"#ArialMT-49\"/>\r\n       <use x=\"55.615234\" xlink:href=\"#ArialMT-53\"/>\r\n      </g>\r\n     </g>\r\n    </g>\r\n    <g id=\"ytick_5\">\r\n     <g id=\"line2d_11\">\r\n      <path clip-path=\"url(#pb4a4d1f759)\" d=\"M 34.213563 285.795 \r\nL 414.733563 285.795 \r\n\" style=\"fill:none;stroke:#cccccc;stroke-linecap:round;stroke-width:1.4;\"/>\r\n     </g>\r\n     <g id=\"text_11\">\r\n      <!-- 20 -->\r\n      <g style=\"fill:#262626;\" transform=\"translate(7.2 290.304422)scale(0.126 -0.126)\">\r\n       <use xlink:href=\"#ArialMT-50\"/>\r\n       <use x=\"55.615234\" xlink:href=\"#ArialMT-48\"/>\r\n      </g>\r\n     </g>\r\n    </g>\r\n    <g id=\"ytick_6\">\r\n     <g id=\"line2d_12\">\r\n      <path clip-path=\"url(#pb4a4d1f759)\" d=\"M 34.213563 353.745 \r\nL 414.733563 353.745 \r\n\" style=\"fill:none;stroke:#cccccc;stroke-linecap:round;stroke-width:1.4;\"/>\r\n     </g>\r\n     <g id=\"text_12\">\r\n      <!-- 25 -->\r\n      <g style=\"fill:#262626;\" transform=\"translate(7.2 358.254422)scale(0.126 -0.126)\">\r\n       <use xlink:href=\"#ArialMT-50\"/>\r\n       <use x=\"55.615234\" xlink:href=\"#ArialMT-53\"/>\r\n      </g>\r\n     </g>\r\n    </g>\r\n   </g>\r\n   <g id=\"patch_3\">\r\n    <path d=\"M 34.213563 387.72 \r\nL 34.213563 7.2 \r\n\" style=\"fill:none;stroke:#cccccc;stroke-linecap:square;stroke-linejoin:miter;stroke-width:1.4;\"/>\r\n   </g>\r\n   <g id=\"patch_4\">\r\n    <path d=\"M 414.733563 387.72 \r\nL 414.733563 7.2 \r\n\" style=\"fill:none;stroke:#cccccc;stroke-linecap:square;stroke-linejoin:miter;stroke-width:1.4;\"/>\r\n   </g>\r\n   <g id=\"patch_5\">\r\n    <path d=\"M 34.213563 387.72 \r\nL 414.733562 387.72 \r\n\" style=\"fill:none;stroke:#cccccc;stroke-linecap:square;stroke-linejoin:miter;stroke-width:1.4;\"/>\r\n   </g>\r\n   <g id=\"patch_6\">\r\n    <path d=\"M 34.213563 7.2 \r\nL 414.733562 7.2 \r\n\" style=\"fill:none;stroke:#cccccc;stroke-linecap:square;stroke-linejoin:miter;stroke-width:1.4;\"/>\r\n   </g>\r\n  </g>\r\n </g>\r\n <defs>\r\n  <clipPath id=\"pb4a4d1f759\">\r\n   <rect height=\"380.52\" width=\"380.52\" x=\"34.213563\" y=\"7.2\"/>\r\n  </clipPath>\r\n </defs>\r\n</svg>\r\n",
      "image/png": "[encoded data removed]"
     },
     "metadata": {}
    }
   ],
   "source": [
    "image_index = 3 ## Change me to view different images\n",
    "\n",
    "print(\"Label: \", y_train[image_index])\n",
    "reshaped_image = X_train[image_index].reshape((28, 28))\n",
    "\n",
    "plt.imshow(reshaped_image, cmap='gray')\n",
    "plt.show()"
   ]
  },
  {
   "cell_type": "markdown",
   "metadata": {
    "colab_type": "text",
    "id": "y9X1bnDB5nQv"
   },
   "source": [
    "## Question 2 - Training the Model"
   ]
  },
  {
   "cell_type": "markdown",
   "metadata": {
    "colab_type": "text",
    "id": "axny5XUt5nQy"
   },
   "source": [
    "Now that we have formatted our data, we can fit a model using sklearn's `RandomForestClassifier` class with 20 estimators and its random_state is set to 42. We'll write a function that will take as input the image and label variables that we created previously, and return a trained model.\n",
    "\n",
    "_**Function Specifications:**_\n",
    "* Should take two numpy `arrays` as input in the form `(X_train, y_train)`.\n",
    "* Should return an sklearn `RandomForestClassifier` model which has a random state of 42 and number of estimators 20.\n",
    "* The returned model should be fitted to the data."
   ]
  },
  {
   "cell_type": "code",
   "execution_count": 9,
   "metadata": {
    "colab": {},
    "colab_type": "code",
    "id": "Nqo-XA1f5nQz"
   },
   "outputs": [],
   "source": [
    "### START FUNCTION\n",
    "def train_model(X_train, y_train):\n",
    "\n",
    "    classifier = RandomForestClassifier(n_estimators=20, random_state=42)\n",
    "    \n",
    "    return classifier.fit(X_train, y_train)\n",
    "\n",
    "### END FUNCTION"
   ]
  },
  {
   "cell_type": "code",
   "execution_count": 10,
   "metadata": {
    "colab": {},
    "colab_type": "code",
    "id": "Vl5cToJm5nQ5",
    "outputId": "3034441e-47f9-46d0-f0bf-c0170aea93f5"
   },
   "outputs": [
    {
     "output_type": "execute_result",
     "data": {
      "text/plain": "RandomForestClassifier(n_estimators=20, random_state=42)"
     },
     "metadata": {},
     "execution_count": 10
    }
   ],
   "source": [
    "clf = train_model(X_train, y_train)\n",
    "clf"
   ]
  },
  {
   "cell_type": "markdown",
   "metadata": {
    "colab_type": "text",
    "id": "fHN3AL3W5nRG"
   },
   "source": [
    "## Question 3 - Testing the model"
   ]
  },
  {
   "cell_type": "markdown",
   "metadata": {
    "colab_type": "text",
    "id": "dGUFdKsM5nRK"
   },
   "source": [
    "Now that you have trained your model, lets see how well it does on the test set. Write a function which returns the accuracy of your trained model when tested with the test set.\n",
    "\n",
    "_**Function Specifications:**_\n",
    "* Should take the fitted model and two numpy `arrays` `X_test, y_test` as input.\n",
    "* Should return a `float` of the accuracy of the model. This number should be between zero and one."
   ]
  },
  {
   "cell_type": "code",
   "execution_count": 11,
   "metadata": {
    "colab": {},
    "colab_type": "code",
    "id": "NMCnj6x85nRO"
   },
   "outputs": [],
   "source": [
    "### START FUNCTION\n",
    "def calculate_accuracy(clf, X_test, y_test):\n",
    "\n",
    "    y_pred = clf.predict(X_test)\n",
    "\n",
    "    return accuracy_score(y_test, y_pred)\n",
    "\n",
    "### END FUNCTION"
   ]
  },
  {
   "cell_type": "code",
   "execution_count": 12,
   "metadata": {
    "colab": {},
    "colab_type": "code",
    "id": "-pqCRlXD5nRS",
    "outputId": "5f40a78b-8670-4a47-aa55-d4eea51b617a",
    "tags": []
   },
   "outputs": [
    {
     "output_type": "stream",
     "name": "stdout",
     "text": "0.891\n"
    }
   ],
   "source": [
    "print(calculate_accuracy(clf,X_test,y_test))"
   ]
  },
  {
   "cell_type": "markdown",
   "metadata": {
    "colab_type": "text",
    "id": "YsvYXM_h5nRi"
   },
   "source": [
    "Classification reports gives us more information on where our model is going wrong - looking specifically at the performance caused by Type I & II errors. Write a function which returns the classification report of your test set.\n",
    "\n",
    "_**Function Specifications:**_\n",
    "* Should take the fitted model and two numpy `arrays` `X_test, y_test` as input.\n",
    "* Should return a classification report\n",
    "\n",
    "_**Hint**_ You don't need to do this manually, sklearn has a classification report function."
   ]
  },
  {
   "cell_type": "code",
   "execution_count": 13,
   "metadata": {
    "colab": {},
    "colab_type": "code",
    "id": "Qv8ndyM05nRl"
   },
   "outputs": [],
   "source": [
    "### START FUNCTION\n",
    "def get_class_report(clf, X_test, y_test):\n",
    "\n",
    "    y_pred = clf.predict(X_test)\n",
    "\n",
    "    return classification_report(y_test, y_pred)\n",
    "\n",
    "### END FUNCTION"
   ]
  },
  {
   "cell_type": "code",
   "execution_count": 14,
   "metadata": {
    "colab": {},
    "colab_type": "code",
    "id": "qmtLlUT_5nRt",
    "outputId": "c4f52542-456b-4d61-c730-b1a040551469",
    "tags": []
   },
   "outputs": [
    {
     "output_type": "stream",
     "name": "stdout",
     "text": "precision    recall  f1-score   support\n\n           0       0.94      0.99      0.97        85\n           1       0.98      0.98      0.98       126\n           2       0.88      0.90      0.89       116\n           3       0.84      0.83      0.84       107\n           4       0.86      0.90      0.88       110\n           5       0.86      0.85      0.86        87\n           6       0.91      0.93      0.92        87\n           7       0.88      0.85      0.87        99\n           8       0.93      0.78      0.85        89\n           9       0.81      0.88      0.85        94\n\n    accuracy                           0.89      1000\n   macro avg       0.89      0.89      0.89      1000\nweighted avg       0.89      0.89      0.89      1000\n\n"
    }
   ],
   "source": [
    "print(get_class_report(clf,X_test,y_test))"
   ]
  },
  {
   "cell_type": "markdown",
   "metadata": {
    "colab_type": "text",
    "collapsed": true,
    "id": "ldfdObCV5nR3"
   },
   "source": [
    "## Plotting the results\n",
    "\n",
    "Lets actually see if your model has trained correctly. Lets plot some of the images with their predicted labels. Since we don't have the predictions stored in our notebooks memory, we need to call the predict function here first."
   ]
  },
  {
   "cell_type": "code",
   "execution_count": 15,
   "metadata": {},
   "outputs": [
    {
     "output_type": "execute_result",
     "data": {
      "text/plain": "0.10980392"
     },
     "metadata": {},
     "execution_count": 15
    }
   ],
   "source": [
    "X_train[1, 349]"
   ]
  },
  {
   "cell_type": "code",
   "execution_count": 16,
   "metadata": {
    "colab": {},
    "colab_type": "code",
    "id": "tx9YOlcO5nR4",
    "outputId": "4fdfd235-6c9c-45b3-be29-7448fa88eeee",
    "tags": []
   },
   "outputs": [
    {
     "output_type": "stream",
     "name": "stdout",
     "text": "Predicted Label:  5\n"
    },
    {
     "output_type": "display_data",
     "data": {
      "text/plain": "<Figure size 1200x1050 with 1 Axes>",
      "image/svg+xml": "<?xml version=\"1.0\" encoding=\"utf-8\" standalone=\"no\"?>\r\n<!DOCTYPE svg PUBLIC \"-//W3C//DTD SVG 1.1//EN\"\r\n  \"http://www.w3.org/Graphics/SVG/1.1/DTD/svg11.dtd\">\r\n<!-- Created with matplotlib (https://matplotlib.org/) -->\r\n<svg height=\"419.443094pt\" version=\"1.1\" viewBox=\"0 0 421.933562 419.443094\" width=\"421.933562pt\" xmlns=\"http://www.w3.org/2000/svg\" xmlns:xlink=\"http://www.w3.org/1999/xlink\">\r\n <defs>\r\n  <style type=\"text/css\">\r\n*{stroke-linecap:butt;stroke-linejoin:round;}\r\n  </style>\r\n </defs>\r\n <g id=\"figure_1\">\r\n  <g id=\"patch_1\">\r\n   <path d=\"M 0 419.443094 \r\nL 421.933562 419.443094 \r\nL 421.933562 0 \r\nL 0 0 \r\nz\r\n\" style=\"fill:#ffffff;\"/>\r\n  </g>\r\n  <g id=\"axes_1\">\r\n   <g id=\"patch_2\">\r\n    <path d=\"M 34.213563 387.72 \r\nL 414.733563 387.72 \r\nL 414.733563 7.2 \r\nL 34.213563 7.2 \r\nz\r\n\" style=\"fill:#ffffff;\"/>\r\n   </g>\r\n   <g clip-path=\"url(#p5569c451c9)\">\r\n    <image height=\"380.64\" id=\"imagebf88415021\" transform=\"scale(1 -1)translate(0 -380.64)\" width=\"380.64\" x=\"34.213563\" xlink:href=\"data:image/png;base64,\r\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\" y=\"-7.08\"/>\r\n   </g>\r\n   <g id=\"matplotlib.axis_1\">\r\n    <g id=\"xtick_1\">\r\n     <g id=\"line2d_1\">\r\n      <path clip-path=\"url(#p5569c451c9)\" d=\"M 41.008563 387.72 \r\nL 41.008563 7.2 \r\n\" style=\"fill:none;stroke:#cccccc;stroke-linecap:round;stroke-width:1.4;\"/>\r\n     </g>\r\n     <g id=\"text_1\">\r\n      <!-- 0 -->\r\n      <defs>\r\n       <path d=\"M 4.15625 35.296875 \r\nQ 4.15625 48 6.765625 55.734375 \r\nQ 9.375 63.484375 14.515625 67.671875 \r\nQ 19.671875 71.875 27.484375 71.875 \r\nQ 33.25 71.875 37.59375 69.546875 \r\nQ 41.9375 67.234375 44.765625 62.859375 \r\nQ 47.609375 58.5 49.21875 52.21875 \r\nQ 50.828125 45.953125 50.828125 35.296875 \r\nQ 50.828125 22.703125 48.234375 14.96875 \r\nQ 45.65625 7.234375 40.5 3 \r\nQ 35.359375 -1.21875 27.484375 -1.21875 \r\nQ 17.140625 -1.21875 11.234375 6.203125 \r\nQ 4.15625 15.140625 4.15625 35.296875 \r\nz\r\nM 13.1875 35.296875 \r\nQ 13.1875 17.671875 17.3125 11.828125 \r\nQ 21.4375 6 27.484375 6 \r\nQ 33.546875 6 37.671875 11.859375 \r\nQ 41.796875 17.71875 41.796875 35.296875 \r\nQ 41.796875 52.984375 37.671875 58.78125 \r\nQ 33.546875 64.59375 27.390625 64.59375 \r\nQ 21.34375 64.59375 17.71875 59.46875 \r\nQ 13.1875 52.9375 13.1875 35.296875 \r\nz\r\n\" id=\"ArialMT-48\"/>\r\n      </defs>\r\n      <g style=\"fill:#262626;\" transform=\"translate(37.505172 409.738844)scale(0.126 -0.126)\">\r\n       <use xlink:href=\"#ArialMT-48\"/>\r\n      </g>\r\n     </g>\r\n    </g>\r\n    <g id=\"xtick_2\">\r\n     <g id=\"line2d_2\">\r\n      <path clip-path=\"url(#p5569c451c9)\" d=\"M 108.958562 387.72 \r\nL 108.958562 7.2 \r\n\" style=\"fill:none;stroke:#cccccc;stroke-linecap:round;stroke-width:1.4;\"/>\r\n     </g>\r\n     <g id=\"text_2\">\r\n      <!-- 5 -->\r\n      <defs>\r\n       <path d=\"M 4.15625 18.75 \r\nL 13.375 19.53125 \r\nQ 14.40625 12.796875 18.140625 9.390625 \r\nQ 21.875 6 27.15625 6 \r\nQ 33.5 6 37.890625 10.78125 \r\nQ 42.28125 15.578125 42.28125 23.484375 \r\nQ 42.28125 31 38.0625 35.34375 \r\nQ 33.84375 39.703125 27 39.703125 \r\nQ 22.75 39.703125 19.328125 37.765625 \r\nQ 15.921875 35.84375 13.96875 32.765625 \r\nL 5.71875 33.84375 \r\nL 12.640625 70.609375 \r\nL 48.25 70.609375 \r\nL 48.25 62.203125 \r\nL 19.671875 62.203125 \r\nL 15.828125 42.96875 \r\nQ 22.265625 47.46875 29.34375 47.46875 \r\nQ 38.71875 47.46875 45.15625 40.96875 \r\nQ 51.609375 34.46875 51.609375 24.265625 \r\nQ 51.609375 14.546875 45.953125 7.46875 \r\nQ 39.0625 -1.21875 27.15625 -1.21875 \r\nQ 17.390625 -1.21875 11.203125 4.25 \r\nQ 5.03125 9.71875 4.15625 18.75 \r\nz\r\n\" id=\"ArialMT-53\"/>\r\n      </defs>\r\n      <g style=\"fill:#262626;\" transform=\"translate(105.455172 409.738844)scale(0.126 -0.126)\">\r\n       <use xlink:href=\"#ArialMT-53\"/>\r\n      </g>\r\n     </g>\r\n    </g>\r\n    <g id=\"xtick_3\">\r\n     <g id=\"line2d_3\">\r\n      <path clip-path=\"url(#p5569c451c9)\" d=\"M 176.908562 387.72 \r\nL 176.908562 7.2 \r\n\" style=\"fill:none;stroke:#cccccc;stroke-linecap:round;stroke-width:1.4;\"/>\r\n     </g>\r\n     <g id=\"text_3\">\r\n      <!-- 10 -->\r\n      <defs>\r\n       <path d=\"M 37.25 0 \r\nL 28.46875 0 \r\nL 28.46875 56 \r\nQ 25.296875 52.984375 20.140625 49.953125 \r\nQ 14.984375 46.921875 10.890625 45.40625 \r\nL 10.890625 53.90625 \r\nQ 18.265625 57.375 23.78125 62.296875 \r\nQ 29.296875 67.234375 31.59375 71.875 \r\nL 37.25 71.875 \r\nz\r\n\" id=\"ArialMT-49\"/>\r\n      </defs>\r\n      <g style=\"fill:#262626;\" transform=\"translate(169.901781 409.738844)scale(0.126 -0.126)\">\r\n       <use xlink:href=\"#ArialMT-49\"/>\r\n       <use x=\"55.615234\" xlink:href=\"#ArialMT-48\"/>\r\n      </g>\r\n     </g>\r\n    </g>\r\n    <g id=\"xtick_4\">\r\n     <g id=\"line2d_4\">\r\n      <path clip-path=\"url(#p5569c451c9)\" d=\"M 244.858562 387.72 \r\nL 244.858562 7.2 \r\n\" style=\"fill:none;stroke:#cccccc;stroke-linecap:round;stroke-width:1.4;\"/>\r\n     </g>\r\n     <g id=\"text_4\">\r\n      <!-- 15 -->\r\n      <g style=\"fill:#262626;\" transform=\"translate(237.851781 409.738844)scale(0.126 -0.126)\">\r\n       <use xlink:href=\"#ArialMT-49\"/>\r\n       <use x=\"55.615234\" xlink:href=\"#ArialMT-53\"/>\r\n      </g>\r\n     </g>\r\n    </g>\r\n    <g id=\"xtick_5\">\r\n     <g id=\"line2d_5\">\r\n      <path clip-path=\"url(#p5569c451c9)\" d=\"M 312.808562 387.72 \r\nL 312.808562 7.2 \r\n\" style=\"fill:none;stroke:#cccccc;stroke-linecap:round;stroke-width:1.4;\"/>\r\n     </g>\r\n     <g id=\"text_5\">\r\n      <!-- 20 -->\r\n      <defs>\r\n       <path d=\"M 50.34375 8.453125 \r\nL 50.34375 0 \r\nL 3.03125 0 \r\nQ 2.9375 3.171875 4.046875 6.109375 \r\nQ 5.859375 10.9375 9.828125 15.625 \r\nQ 13.8125 20.3125 21.34375 26.46875 \r\nQ 33.015625 36.03125 37.109375 41.625 \r\nQ 41.21875 47.21875 41.21875 52.203125 \r\nQ 41.21875 57.421875 37.46875 61 \r\nQ 33.734375 64.59375 27.734375 64.59375 \r\nQ 21.390625 64.59375 17.578125 60.78125 \r\nQ 13.765625 56.984375 13.71875 50.25 \r\nL 4.6875 51.171875 \r\nQ 5.609375 61.28125 11.65625 66.578125 \r\nQ 17.71875 71.875 27.9375 71.875 \r\nQ 38.234375 71.875 44.234375 66.15625 \r\nQ 50.25 60.453125 50.25 52 \r\nQ 50.25 47.703125 48.484375 43.546875 \r\nQ 46.734375 39.40625 42.65625 34.8125 \r\nQ 38.578125 30.21875 29.109375 22.21875 \r\nQ 21.1875 15.578125 18.9375 13.203125 \r\nQ 16.703125 10.84375 15.234375 8.453125 \r\nz\r\n\" id=\"ArialMT-50\"/>\r\n      </defs>\r\n      <g style=\"fill:#262626;\" transform=\"translate(305.801781 409.738844)scale(0.126 -0.126)\">\r\n       <use xlink:href=\"#ArialMT-50\"/>\r\n       <use x=\"55.615234\" xlink:href=\"#ArialMT-48\"/>\r\n      </g>\r\n     </g>\r\n    </g>\r\n    <g id=\"xtick_6\">\r\n     <g id=\"line2d_6\">\r\n      <path clip-path=\"url(#p5569c451c9)\" d=\"M 380.758562 387.72 \r\nL 380.758562 7.2 \r\n\" style=\"fill:none;stroke:#cccccc;stroke-linecap:round;stroke-width:1.4;\"/>\r\n     </g>\r\n     <g id=\"text_6\">\r\n      <!-- 25 -->\r\n      <g style=\"fill:#262626;\" transform=\"translate(373.751781 409.738844)scale(0.126 -0.126)\">\r\n       <use xlink:href=\"#ArialMT-50\"/>\r\n       <use x=\"55.615234\" xlink:href=\"#ArialMT-53\"/>\r\n      </g>\r\n     </g>\r\n    </g>\r\n   </g>\r\n   <g id=\"matplotlib.axis_2\">\r\n    <g id=\"ytick_1\">\r\n     <g id=\"line2d_7\">\r\n      <path clip-path=\"url(#p5569c451c9)\" d=\"M 34.213563 13.995 \r\nL 414.733563 13.995 \r\n\" style=\"fill:none;stroke:#cccccc;stroke-linecap:round;stroke-width:1.4;\"/>\r\n     </g>\r\n     <g id=\"text_7\">\r\n      <!-- 0 -->\r\n      <g style=\"fill:#262626;\" transform=\"translate(14.206781 18.504422)scale(0.126 -0.126)\">\r\n       <use xlink:href=\"#ArialMT-48\"/>\r\n      </g>\r\n     </g>\r\n    </g>\r\n    <g id=\"ytick_2\">\r\n     <g id=\"line2d_8\">\r\n      <path clip-path=\"url(#p5569c451c9)\" d=\"M 34.213563 81.945 \r\nL 414.733563 81.945 \r\n\" style=\"fill:none;stroke:#cccccc;stroke-linecap:round;stroke-width:1.4;\"/>\r\n     </g>\r\n     <g id=\"text_8\">\r\n      <!-- 5 -->\r\n      <g style=\"fill:#262626;\" transform=\"translate(14.206781 86.454422)scale(0.126 -0.126)\">\r\n       <use xlink:href=\"#ArialMT-53\"/>\r\n      </g>\r\n     </g>\r\n    </g>\r\n    <g id=\"ytick_3\">\r\n     <g id=\"line2d_9\">\r\n      <path clip-path=\"url(#p5569c451c9)\" d=\"M 34.213563 149.895 \r\nL 414.733563 149.895 \r\n\" style=\"fill:none;stroke:#cccccc;stroke-linecap:round;stroke-width:1.4;\"/>\r\n     </g>\r\n     <g id=\"text_9\">\r\n      <!-- 10 -->\r\n      <g style=\"fill:#262626;\" transform=\"translate(7.2 154.404422)scale(0.126 -0.126)\">\r\n       <use xlink:href=\"#ArialMT-49\"/>\r\n       <use x=\"55.615234\" xlink:href=\"#ArialMT-48\"/>\r\n      </g>\r\n     </g>\r\n    </g>\r\n    <g id=\"ytick_4\">\r\n     <g id=\"line2d_10\">\r\n      <path clip-path=\"url(#p5569c451c9)\" d=\"M 34.213563 217.845 \r\nL 414.733563 217.845 \r\n\" style=\"fill:none;stroke:#cccccc;stroke-linecap:round;stroke-width:1.4;\"/>\r\n     </g>\r\n     <g id=\"text_10\">\r\n      <!-- 15 -->\r\n      <g style=\"fill:#262626;\" transform=\"translate(7.2 222.354422)scale(0.126 -0.126)\">\r\n       <use xlink:href=\"#ArialMT-49\"/>\r\n       <use x=\"55.615234\" xlink:href=\"#ArialMT-53\"/>\r\n      </g>\r\n     </g>\r\n    </g>\r\n    <g id=\"ytick_5\">\r\n     <g id=\"line2d_11\">\r\n      <path clip-path=\"url(#p5569c451c9)\" d=\"M 34.213563 285.795 \r\nL 414.733563 285.795 \r\n\" style=\"fill:none;stroke:#cccccc;stroke-linecap:round;stroke-width:1.4;\"/>\r\n     </g>\r\n     <g id=\"text_11\">\r\n      <!-- 20 -->\r\n      <g style=\"fill:#262626;\" transform=\"translate(7.2 290.304422)scale(0.126 -0.126)\">\r\n       <use xlink:href=\"#ArialMT-50\"/>\r\n       <use x=\"55.615234\" xlink:href=\"#ArialMT-48\"/>\r\n      </g>\r\n     </g>\r\n    </g>\r\n    <g id=\"ytick_6\">\r\n     <g id=\"line2d_12\">\r\n      <path clip-path=\"url(#p5569c451c9)\" d=\"M 34.213563 353.745 \r\nL 414.733563 353.745 \r\n\" style=\"fill:none;stroke:#cccccc;stroke-linecap:round;stroke-width:1.4;\"/>\r\n     </g>\r\n     <g id=\"text_12\">\r\n      <!-- 25 -->\r\n      <g style=\"fill:#262626;\" transform=\"translate(7.2 358.254422)scale(0.126 -0.126)\">\r\n       <use xlink:href=\"#ArialMT-50\"/>\r\n       <use x=\"55.615234\" xlink:href=\"#ArialMT-53\"/>\r\n      </g>\r\n     </g>\r\n    </g>\r\n   </g>\r\n   <g id=\"patch_3\">\r\n    <path d=\"M 34.213563 387.72 \r\nL 34.213563 7.2 \r\n\" style=\"fill:none;stroke:#cccccc;stroke-linecap:square;stroke-linejoin:miter;stroke-width:1.4;\"/>\r\n   </g>\r\n   <g id=\"patch_4\">\r\n    <path d=\"M 414.733563 387.72 \r\nL 414.733563 7.2 \r\n\" style=\"fill:none;stroke:#cccccc;stroke-linecap:square;stroke-linejoin:miter;stroke-width:1.4;\"/>\r\n   </g>\r\n   <g id=\"patch_5\">\r\n    <path d=\"M 34.213563 387.72 \r\nL 414.733562 387.72 \r\n\" style=\"fill:none;stroke:#cccccc;stroke-linecap:square;stroke-linejoin:miter;stroke-width:1.4;\"/>\r\n   </g>\r\n   <g id=\"patch_6\">\r\n    <path d=\"M 34.213563 7.2 \r\nL 414.733562 7.2 \r\n\" style=\"fill:none;stroke:#cccccc;stroke-linecap:square;stroke-linejoin:miter;stroke-width:1.4;\"/>\r\n   </g>\r\n  </g>\r\n </g>\r\n <defs>\r\n  <clipPath id=\"p5569c451c9\">\r\n   <rect height=\"380.52\" width=\"380.52\" x=\"34.213563\" y=\"7.2\"/>\r\n  </clipPath>\r\n </defs>\r\n</svg>\r\n",
      "image/png": "[encoded data removed]"
     },
     "metadata": {}
    }
   ],
   "source": [
    "preds = clf.predict(X_test)\n",
    "\n",
    "image_index = 15 ## Change me to see other predictions\n",
    "\n",
    "print(\"Predicted Label: \",preds[image_index])\n",
    "plt.imshow(X_test[image_index].reshape((28, 28)), cmap='gray')\n",
    "plt.show()"
   ]
  },
  {
   "cell_type": "markdown",
   "metadata": {
    "colab_type": "text",
    "id": "kCirI2V05nR-"
   },
   "source": [
    "Nice work! Since we didn't use all the data in the beginning, there is a chance our performance can improve. Go change the amount of data we use to see how it affects the accuracy of your model."
   ]
  }
 ],
 "metadata": {
  "colab": {
   "name": "4_Image_Classification_model_solution.ipynb",
   "provenance": []
  },
  "kernelspec": {
   "display_name": "Python 3",
   "language": "python",
   "name": "python3"
  },
  "language_info": {
   "codemirror_mode": {
    "name": "ipython",
    "version": 3
   },
   "file_extension": ".py",
   "mimetype": "text/x-python",
   "name": "python",
   "nbconvert_exporter": "python",
   "pygments_lexer": "ipython3",
   "version": "3.7.7-final"
  }
 },
 "nbformat": 4,
 "nbformat_minor": 1
}